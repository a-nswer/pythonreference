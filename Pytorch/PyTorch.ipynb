{
 "cells": [
  {
   "cell_type": "markdown",
   "metadata": {},
   "source": [
    "# PyTorch"
   ]
  },
  {
   "cell_type": "markdown",
   "metadata": {},
   "source": [
    "PyTorch is a Python package that's similar to Numpy in some ways, in that it lets us control a lot of numbers very efficiently. \n",
    "\n",
    "Because it does this through the use of the GPU, it's also a platform for deep learning researchers to develop their models. \n",
    "\n",
    "(Most of these notes are taken from [here](https://pytorch.org/tutorials/beginner/blitz/tensor_tutorial.html#getting-started))"
   ]
  },
  {
   "cell_type": "code",
   "execution_count": 2,
   "metadata": {},
   "outputs": [
    {
     "name": "stdout",
     "output_type": "stream",
     "text": [
      "0.4.0\n"
     ]
    }
   ],
   "source": [
    "import torch\n",
    "print(torch.__version__)"
   ]
  },
  {
   "cell_type": "markdown",
   "metadata": {
    "heading_collapsed": true
   },
   "source": [
    "# Tensors"
   ]
  },
  {
   "cell_type": "markdown",
   "metadata": {
    "heading_collapsed": true,
    "hidden": true
   },
   "source": [
    "## Tensor Construction"
   ]
  },
  {
   "cell_type": "markdown",
   "metadata": {
    "hidden": true
   },
   "source": [
    "Tensors are PyTorch's data objects. They are similar to Numpy's ndarrays, in that they are used to model vectors and matrices. They can also be constructed in similar ways, and have many dimensions."
   ]
  },
  {
   "cell_type": "code",
   "execution_count": 4,
   "metadata": {
    "hidden": true
   },
   "outputs": [
    {
     "name": "stdout",
     "output_type": "stream",
     "text": [
      "tensor(1.00000e-38 *\n",
      "       [[ 0.0000,  0.0000,  0.0000],\n",
      "        [ 0.0000,  0.0000,  0.0000],\n",
      "        [ 0.0000,  0.0000,  0.0000],\n",
      "        [ 0.0000,  0.0003,  0.0000],\n",
      "        [ 0.0000,  1.1388,  0.0000]])\n"
     ]
    }
   ],
   "source": [
    "x = torch.empty(5, 3)\n",
    "print(x)"
   ]
  },
  {
   "cell_type": "code",
   "execution_count": 88,
   "metadata": {
    "hidden": true
   },
   "outputs": [
    {
     "data": {
      "text/plain": [
       "tensor([[  1,   2,   3,   4,   5,   6],\n",
       "        [  7,   8,   9,  10,  11,  12],\n",
       "        [ 13,  14,  15,  16,  17,  18],\n",
       "        [ 19,  20,  21,  22,  23,  24]], dtype=torch.int32)"
      ]
     },
     "execution_count": 88,
     "metadata": {},
     "output_type": "execute_result"
    }
   ],
   "source": [
    "torch.range(1, 24, dtype=torch.int).view(4, 6)"
   ]
  },
  {
   "cell_type": "code",
   "execution_count": 6,
   "metadata": {
    "hidden": true
   },
   "outputs": [
    {
     "name": "stdout",
     "output_type": "stream",
     "text": [
      "tensor([[[ 0.1114,  0.6349,  0.1065],\n",
      "         [ 0.4953,  0.7803,  0.5675]],\n",
      "\n",
      "        [[ 0.1447,  0.0838,  0.1870],\n",
      "         [ 0.6516,  0.6291,  0.8846]]])\n"
     ]
    }
   ],
   "source": [
    "r = torch.rand(2,2,3)\n",
    "print(r)"
   ]
  },
  {
   "cell_type": "code",
   "execution_count": 37,
   "metadata": {
    "hidden": true
   },
   "outputs": [
    {
     "name": "stdout",
     "output_type": "stream",
     "text": [
      "tensor([[ 0,  0,  0,  0,  0],\n",
      "        [ 0,  0,  0,  0,  0],\n",
      "        [ 0,  0,  0,  0,  0],\n",
      "        [ 0,  0,  0,  0,  0],\n",
      "        [ 0,  0,  0,  0,  0]], dtype=torch.int32)\n"
     ]
    }
   ],
   "source": [
    "zeros = torch.zeros((5,5), dtype=torch.int32)\n",
    "print(zeros)"
   ]
  },
  {
   "cell_type": "markdown",
   "metadata": {
    "hidden": true
   },
   "source": [
    "You can construct a tensor based on another tensor, meaning, the new tensor will have the same dtype and size"
   ]
  },
  {
   "cell_type": "code",
   "execution_count": 24,
   "metadata": {
    "hidden": true
   },
   "outputs": [
    {
     "data": {
      "text/plain": [
       "tensor([[ 0.8895,  0.4604,  0.8066,  0.7537,  0.8705],\n",
       "        [ 0.7349,  0.0958,  0.3979,  0.9729,  0.1502],\n",
       "        [ 0.8739,  0.3825,  0.3066,  0.0313,  0.8822],\n",
       "        [ 0.7536,  0.4793,  0.8594,  0.8890,  0.8149],\n",
       "        [ 0.2471,  0.5409,  0.5639,  0.1955,  0.6056]])"
      ]
     },
     "execution_count": 24,
     "metadata": {},
     "output_type": "execute_result"
    }
   ],
   "source": [
    "randslikezeros = torch.rand_like(zeros, dtype=torch.float)\n",
    "\n",
    "randslikezeros"
   ]
  },
  {
   "cell_type": "markdown",
   "metadata": {
    "hidden": true
   },
   "source": [
    "In pytorch, the shape attribute and size method give us the same output (but its probably a better idea to use `size()`)"
   ]
  },
  {
   "cell_type": "code",
   "execution_count": 34,
   "metadata": {
    "hidden": true
   },
   "outputs": [
    {
     "name": "stdout",
     "output_type": "stream",
     "text": [
      "torch.Size([5, 5])\n",
      "torch.Size([5, 5])\n"
     ]
    }
   ],
   "source": [
    "print(randslikezeros.shape)\n",
    "print(randslikezeros.size())"
   ]
  },
  {
   "cell_type": "markdown",
   "metadata": {
    "heading_collapsed": true,
    "hidden": true
   },
   "source": [
    "## Tensor Operations"
   ]
  },
  {
   "cell_type": "markdown",
   "metadata": {
    "hidden": true
   },
   "source": [
    "It comes as no surprise that tensor operations are carried out in an element-wise fashion. To resize, call `torch.view()`"
   ]
  },
  {
   "cell_type": "code",
   "execution_count": 106,
   "metadata": {
    "hidden": true
   },
   "outputs": [
    {
     "data": {
      "text/plain": [
       "tensor([[  1.,   2.],\n",
       "        [  3.,   4.],\n",
       "        [  5.,   6.],\n",
       "        [  7.,   8.],\n",
       "        [  9.,  10.]])"
      ]
     },
     "execution_count": 106,
     "metadata": {},
     "output_type": "execute_result"
    }
   ],
   "source": [
    "x = torch.range(1,10).view(5,2)\n",
    "x"
   ]
  },
  {
   "cell_type": "code",
   "execution_count": 107,
   "metadata": {
    "hidden": true
   },
   "outputs": [
    {
     "data": {
      "text/plain": [
       "tensor([[  2.,   4.],\n",
       "        [  6.,   8.],\n",
       "        [ 10.,  12.],\n",
       "        [ 14.,  16.],\n",
       "        [ 18.,  20.]])"
      ]
     },
     "execution_count": 107,
     "metadata": {},
     "output_type": "execute_result"
    }
   ],
   "source": [
    "y = x + torch.range(1,10).view(5,2)\n",
    "y"
   ]
  },
  {
   "cell_type": "markdown",
   "metadata": {
    "hidden": true
   },
   "source": [
    "You can also use the add function, for the same operation. Use the `out` argument to assign the result to a variable"
   ]
  },
  {
   "cell_type": "code",
   "execution_count": 108,
   "metadata": {
    "hidden": true
   },
   "outputs": [
    {
     "data": {
      "text/plain": [
       "tensor([[  3.,   6.],\n",
       "        [  9.,  12.],\n",
       "        [ 15.,  18.],\n",
       "        [ 21.,  24.],\n",
       "        [ 27.,  30.]])"
      ]
     },
     "execution_count": 108,
     "metadata": {},
     "output_type": "execute_result"
    }
   ],
   "source": [
    "res = torch.empty(5, 2)\n",
    "torch.add(x, y, out=res)"
   ]
  },
  {
   "cell_type": "code",
   "execution_count": 109,
   "metadata": {
    "hidden": true
   },
   "outputs": [
    {
     "name": "stdout",
     "output_type": "stream",
     "text": [
      "tensor([[  3.,   6.],\n",
      "        [  9.,  12.],\n",
      "        [ 15.,  18.],\n",
      "        [ 21.,  24.],\n",
      "        [ 27.,  30.]])\n"
     ]
    }
   ],
   "source": [
    "print(res)"
   ]
  },
  {
   "cell_type": "markdown",
   "metadata": {
    "hidden": true
   },
   "source": [
    "We can also carry out tensor mutations in-place. Methods that can do this are post-fixed with an `_`:"
   ]
  },
  {
   "cell_type": "code",
   "execution_count": 110,
   "metadata": {
    "hidden": true
   },
   "outputs": [
    {
     "name": "stdout",
     "output_type": "stream",
     "text": [
      "tensor([[  3.,   9.,  15.,  21.,  27.],\n",
      "        [  6.,  12.,  18.,  24.,  30.]])\n"
     ]
    },
    {
     "data": {
      "text/plain": [
       "tensor([[  1.,   3.,   5.,   7.,   9.],\n",
       "        [  2.,   4.,   6.,   8.,  10.]])"
      ]
     },
     "execution_count": 110,
     "metadata": {},
     "output_type": "execute_result"
    }
   ],
   "source": [
    "print(res.t_()) # transpose\n",
    "res.copy_(x.t_())"
   ]
  },
  {
   "cell_type": "markdown",
   "metadata": {
    "hidden": true
   },
   "source": [
    "Indexing is exactly the same as it is in Numpy:"
   ]
  },
  {
   "cell_type": "code",
   "execution_count": 111,
   "metadata": {
    "hidden": true
   },
   "outputs": [
    {
     "data": {
      "text/plain": [
       "tensor([  2.,   4.,   6.,   8.,  10.])"
      ]
     },
     "execution_count": 111,
     "metadata": {},
     "output_type": "execute_result"
    }
   ],
   "source": [
    "x[1,:]"
   ]
  },
  {
   "cell_type": "markdown",
   "metadata": {
    "hidden": true
   },
   "source": [
    "Use `.item()` to obtain a single number as a python number"
   ]
  },
  {
   "cell_type": "code",
   "execution_count": 112,
   "metadata": {
    "hidden": true
   },
   "outputs": [
    {
     "data": {
      "text/plain": [
       "6.0"
      ]
     },
     "execution_count": 112,
     "metadata": {},
     "output_type": "execute_result"
    }
   ],
   "source": [
    "x[1, 2].item()"
   ]
  },
  {
   "cell_type": "markdown",
   "metadata": {
    "hidden": true
   },
   "source": [
    "And convert Torch Tensors to Numpy ndarrays like this (Note: the numpy array stored in z is not immutable, as displayed. Change the value of x, and z changes too):"
   ]
  },
  {
   "cell_type": "code",
   "execution_count": 120,
   "metadata": {
    "hidden": true
   },
   "outputs": [
    {
     "name": "stdout",
     "output_type": "stream",
     "text": [
      "X as a numpy array, stored in Z:\n",
      "[[ 7.  9. 11. 13. 15.]\n",
      " [ 8. 10. 12. 14. 16.]]\n",
      "X now:\n",
      "tensor([[  8.,  10.,  12.,  14.,  16.],\n",
      "        [  9.,  11.,  13.,  15.,  17.]])\n",
      "Z has changed with X:\n",
      "[[ 8. 10. 12. 14. 16.]\n",
      " [ 9. 11. 13. 15. 17.]]\n"
     ]
    }
   ],
   "source": [
    "import numpy as np\n",
    "\n",
    "z = x.numpy()\n",
    "print(\"X as a numpy array, stored in Z:\", z, sep=\"\\n\")\n",
    "x.add_(1)\n",
    "print(\"X now:\", x, sep=\"\\n\")\n",
    "print(\"Z has changed with X:\", z, sep=\"\\n\")"
   ]
  },
  {
   "cell_type": "markdown",
   "metadata": {
    "hidden": true
   },
   "source": [
    "You can also convert a Numpy array to a Tensor:"
   ]
  },
  {
   "cell_type": "code",
   "execution_count": 132,
   "metadata": {
    "hidden": true
   },
   "outputs": [
    {
     "name": "stdout",
     "output_type": "stream",
     "text": [
      "[ 0  1  2  3  4  5  6  7  8  9 10 11]\n",
      "tensor([  0,   1,   2,   3,   4,   5,   6,   7,   8,   9,  10,  11], dtype=torch.int32)\n",
      "[ 1  2  3  4  5  6  7  8  9 10 11 12]\n",
      "tensor([  1,   2,   3,   4,   5,   6,   7,   8,   9,  10,  11,  12], dtype=torch.int32)\n"
     ]
    }
   ],
   "source": [
    "a = np.arange(12)\n",
    "b = torch.from_numpy(a)\n",
    "print(a, b, sep=\"\\n\")\n",
    "\n",
    "np.add(a, 1, out=a)\n",
    "print(a, b, sep=\"\\n\")"
   ]
  },
  {
   "cell_type": "markdown",
   "metadata": {
    "heading_collapsed": true,
    "hidden": true
   },
   "source": [
    "## CUDA Tensors"
   ]
  },
  {
   "cell_type": "markdown",
   "metadata": {
    "hidden": true
   },
   "source": [
    "Tensors can be moved onto any device using the `to` method (which can also be used to change dtype):"
   ]
  },
  {
   "cell_type": "code",
   "execution_count": 3,
   "metadata": {
    "hidden": true
   },
   "outputs": [],
   "source": [
    "x = torch.range(1, 100)\n",
    "y = torch.range(101, 200)    "
   ]
  },
  {
   "cell_type": "code",
   "execution_count": 4,
   "metadata": {
    "hidden": true
   },
   "outputs": [
    {
     "name": "stdout",
     "output_type": "stream",
     "text": [
      "Wall time: 996 µs\n",
      "tensor([ 102.,  104.,  106.,  108.,  110.,  112.,  114.,  116.,  118.,\n",
      "         120.,  122.,  124.,  126.,  128.,  130.,  132.,  134.,  136.,\n",
      "         138.,  140.,  142.,  144.,  146.,  148.,  150.,  152.,  154.,\n",
      "         156.,  158.,  160.,  162.,  164.,  166.,  168.,  170.,  172.,\n",
      "         174.,  176.,  178.,  180.,  182.,  184.,  186.,  188.,  190.,\n",
      "         192.,  194.,  196.,  198.,  200.,  202.,  204.,  206.,  208.,\n",
      "         210.,  212.,  214.,  216.,  218.,  220.,  222.,  224.,  226.,\n",
      "         228.,  230.,  232.,  234.,  236.,  238.,  240.,  242.,  244.,\n",
      "         246.,  248.,  250.,  252.,  254.,  256.,  258.,  260.,  262.,\n",
      "         264.,  266.,  268.,  270.,  272.,  274.,  276.,  278.,  280.,\n",
      "         282.,  284.,  286.,  288.,  290.,  292.,  294.,  296.,  298.,\n",
      "         300.])\n"
     ]
    }
   ],
   "source": [
    "%time z = x + y\n",
    "print(z)"
   ]
  },
  {
   "cell_type": "code",
   "execution_count": 6,
   "metadata": {
    "hidden": true
   },
   "outputs": [],
   "source": [
    "if torch.cuda.is_available():\n",
    "    device = torch.device(\"cuda\")\n",
    "    x = x.to(device)\n",
    "    y = y.to(device)"
   ]
  },
  {
   "cell_type": "code",
   "execution_count": 7,
   "metadata": {
    "hidden": true
   },
   "outputs": [
    {
     "name": "stdout",
     "output_type": "stream",
     "text": [
      "Wall time: 997 µs\n"
     ]
    }
   ],
   "source": [
    "%time z = x + y"
   ]
  }
 ],
 "metadata": {
  "kernelspec": {
   "display_name": "Python 3",
   "language": "python",
   "name": "python3"
  },
  "language_info": {
   "codemirror_mode": {
    "name": "ipython",
    "version": 3
   },
   "file_extension": ".py",
   "mimetype": "text/x-python",
   "name": "python",
   "nbconvert_exporter": "python",
   "pygments_lexer": "ipython3",
   "version": "3.6.5"
  }
 },
 "nbformat": 4,
 "nbformat_minor": 2
}
